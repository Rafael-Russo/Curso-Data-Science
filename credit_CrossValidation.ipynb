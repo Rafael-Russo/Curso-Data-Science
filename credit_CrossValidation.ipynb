{
 "cells": [
  {
   "cell_type": "markdown",
   "metadata": {},
   "source": [
    "## Importações e carregamento da base de dados"
   ]
  },
  {
   "cell_type": "code",
   "execution_count": 12,
   "metadata": {},
   "outputs": [],
   "source": [
    "import pandas as pd\n",
    "import numpy as np\n",
    "import seaborn as sns\n",
    "import matplotlib.pyplot as plt\n",
    "import plotly.express as px"
   ]
  },
  {
   "cell_type": "code",
   "execution_count": 13,
   "metadata": {},
   "outputs": [],
   "source": [
    "from sklearn.model_selection import GridSearchCV\n",
    "from sklearn.tree import DecisionTreeClassifier\n",
    "from sklearn.ensemble import RandomForestClassifier\n",
    "from sklearn.neighbors import KNeighborsClassifier\n",
    "from sklearn.linear_model import LogisticRegression\n",
    "from sklearn.svm import SVC\n",
    "from sklearn.neural_network import MLPClassifier\n",
    "\n",
    "from sklearn.model_selection import cross_val_score, KFold"
   ]
  },
  {
   "cell_type": "code",
   "execution_count": 14,
   "metadata": {},
   "outputs": [],
   "source": [
    "import pickle\n",
    "with open('./content/credit.pkl', 'rb') as f:\n",
    "    x_credit_treinamento, y_credit_treinamento, x_credit_teste, y_credit_teste = pickle.load(f)"
   ]
  },
  {
   "cell_type": "code",
   "execution_count": 15,
   "metadata": {},
   "outputs": [
    {
     "data": {
      "text/plain": [
       "((1500, 3), (1500,))"
      ]
     },
     "execution_count": 15,
     "metadata": {},
     "output_type": "execute_result"
    }
   ],
   "source": [
    "x_credit_treinamento.shape, y_credit_treinamento.shape"
   ]
  },
  {
   "cell_type": "code",
   "execution_count": 16,
   "metadata": {},
   "outputs": [
    {
     "data": {
      "text/plain": [
       "((500, 3), (500,))"
      ]
     },
     "execution_count": 16,
     "metadata": {},
     "output_type": "execute_result"
    }
   ],
   "source": [
    "x_credit_teste.shape, y_credit_teste.shape"
   ]
  },
  {
   "cell_type": "code",
   "execution_count": 17,
   "metadata": {},
   "outputs": [
    {
     "data": {
      "text/plain": [
       "(2000, 3)"
      ]
     },
     "execution_count": 17,
     "metadata": {},
     "output_type": "execute_result"
    }
   ],
   "source": [
    "x_credit = np.concatenate((x_credit_treinamento, x_credit_teste), axis=0)\n",
    "x_credit.shape"
   ]
  },
  {
   "cell_type": "code",
   "execution_count": 18,
   "metadata": {},
   "outputs": [
    {
     "data": {
      "text/plain": [
       "array([[-1.3754462 ,  0.50631087,  0.10980934],\n",
       "       [ 1.45826409, -1.6489393 , -1.21501497],\n",
       "       [-0.79356829,  0.22531191, -0.43370226],\n",
       "       ...,\n",
       "       [ 1.37445674, -1.05746281, -1.12564819],\n",
       "       [-1.57087737, -0.63488173, -0.36981671],\n",
       "       [-1.03572293, -0.93978122,  0.04244312]])"
      ]
     },
     "execution_count": 18,
     "metadata": {},
     "output_type": "execute_result"
    }
   ],
   "source": [
    "x_credit"
   ]
  },
  {
   "cell_type": "code",
   "execution_count": 19,
   "metadata": {},
   "outputs": [
    {
     "data": {
      "text/plain": [
       "(2000,)"
      ]
     },
     "execution_count": 19,
     "metadata": {},
     "output_type": "execute_result"
    }
   ],
   "source": [
    "y_credit = np.concatenate((y_credit_treinamento, y_credit_teste), axis=0)\n",
    "y_credit.shape"
   ]
  },
  {
   "cell_type": "code",
   "execution_count": 20,
   "metadata": {},
   "outputs": [
    {
     "data": {
      "text/plain": [
       "array([0, 0, 0, ..., 0, 1, 1], dtype=int64)"
      ]
     },
     "execution_count": 20,
     "metadata": {},
     "output_type": "execute_result"
    }
   ],
   "source": [
    "y_credit"
   ]
  },
  {
   "cell_type": "markdown",
   "metadata": {},
   "source": [
    "## Validação Cruzada / Cross Validation"
   ]
  },
  {
   "cell_type": "markdown",
   "metadata": {},
   "source": [
    "### Árvore de Decisão"
   ]
  },
  {
   "cell_type": "code",
   "execution_count": null,
   "metadata": {},
   "outputs": [],
   "source": [
    "resultados_arvore = []\n",
    "\n",
    "for i in range(30):\n",
    "    kfold = KFold( n_splits=10, shuffle=True, random_state=i)\n",
    "\n",
    "    arvore = DecisionTreeClassifier(criterion='entropy', min_samples_leaf=1, min_samples_split=5, splitter='best')\n",
    "    scores = cross_val_score(arvore, x_credit, y_credit, cv=kfold)\n",
    "    # print(scores)\n",
    "    # print(scores.mean())\n",
    "    resultados_arvore.append(scores.mean())"
   ]
  },
  {
   "cell_type": "code",
   "execution_count": 35,
   "metadata": {},
   "outputs": [
    {
     "data": {
      "text/plain": [
       "[0.986,\n",
       " 0.9834999999999999,\n",
       " 0.9905000000000002,\n",
       " 0.9869999999999999,\n",
       " 0.9879999999999999,\n",
       " 0.9884999999999999,\n",
       " 0.9884999999999999,\n",
       " 0.9875,\n",
       " 0.9870000000000001,\n",
       " 0.9869999999999999,\n",
       " 0.9865,\n",
       " 0.9899999999999999,\n",
       " 0.9889999999999999,\n",
       " 0.9864999999999998,\n",
       " 0.9855,\n",
       " 0.9864999999999998,\n",
       " 0.9855,\n",
       " 0.9904999999999999,\n",
       " 0.9875,\n",
       " 0.9869999999999999,\n",
       " 0.983,\n",
       " 0.9870000000000001,\n",
       " 0.9889999999999999,\n",
       " 0.9875,\n",
       " 0.9880000000000001,\n",
       " 0.9880000000000001,\n",
       " 0.9875,\n",
       " 0.986,\n",
       " 0.9864999999999998,\n",
       " 0.9880000000000001]"
      ]
     },
     "execution_count": 35,
     "metadata": {},
     "output_type": "execute_result"
    }
   ],
   "source": [
    "resultados_arvore"
   ]
  },
  {
   "cell_type": "markdown",
   "metadata": {},
   "source": [
    "### Random Forest"
   ]
  },
  {
   "cell_type": "code",
   "execution_count": 34,
   "metadata": {},
   "outputs": [],
   "source": [
    "resultados_random_forest = []\n",
    "\n",
    "for i in range(30):\n",
    "    kfold = KFold( n_splits=10, shuffle=True, random_state=i)\n",
    "\n",
    "    random_forest = RandomForestClassifier(criterion='entropy', min_samples_leaf=1, min_samples_split=5, n_estimators=10)\n",
    "    scores = cross_val_score(random_forest, x_credit, y_credit, cv=kfold)\n",
    "    # print(scores)\n",
    "    # print(scores.mean())\n",
    "    resultados_random_forest.append(scores.mean())"
   ]
  },
  {
   "cell_type": "code",
   "execution_count": null,
   "metadata": {},
   "outputs": [],
   "source": [
    "resultados_random_forest"
   ]
  },
  {
   "cell_type": "markdown",
   "metadata": {},
   "source": [
    "### kNN"
   ]
  },
  {
   "cell_type": "code",
   "execution_count": 33,
   "metadata": {},
   "outputs": [],
   "source": [
    "resultados_knn = []\n",
    "\n",
    "for i in range(30):\n",
    "    kfold = KFold( n_splits=10, shuffle=True, random_state=i)\n",
    "\n",
    "    knn = KNeighborsClassifier()\n",
    "    scores = cross_val_score(knn, x_credit, y_credit, cv=kfold)\n",
    "    # print(scores)\n",
    "    # print(scores.mean())\n",
    "    resultados_knn.append(scores.mean())"
   ]
  },
  {
   "cell_type": "code",
   "execution_count": null,
   "metadata": {},
   "outputs": [],
   "source": [
    "resultados_knn"
   ]
  },
  {
   "cell_type": "markdown",
   "metadata": {},
   "source": [
    "### Logistic Regression / Regressão Logística"
   ]
  },
  {
   "cell_type": "code",
   "execution_count": 32,
   "metadata": {},
   "outputs": [],
   "source": [
    "resultados_logistic_regression = []\n",
    "\n",
    "for i in range(30):\n",
    "    kfold = KFold( n_splits=10, shuffle=True, random_state=i)\n",
    "\n",
    "    logistic_regression = LogisticRegression(C = 1.0, solver='lbfgs', tol=0.0001)\n",
    "    scores = cross_val_score(logistic_regression, x_credit, y_credit, cv=kfold)\n",
    "    # print(scores)\n",
    "    # print(scores.mean())\n",
    "    resultados_logistic_regression.append(scores.mean())"
   ]
  },
  {
   "cell_type": "code",
   "execution_count": null,
   "metadata": {},
   "outputs": [],
   "source": [
    "resultados_logistic_regression"
   ]
  },
  {
   "cell_type": "markdown",
   "metadata": {},
   "source": [
    "### SVM (Support Vector Machine)"
   ]
  },
  {
   "cell_type": "code",
   "execution_count": null,
   "metadata": {},
   "outputs": [],
   "source": [
    "resultados_svm = []\n",
    "\n",
    "for i in range(30):\n",
    "    kfold = KFold( n_splits=10, shuffle=True, random_state=i)\n",
    "\n",
    "    svm = SVC(kernel='rbf', C=2.0)\n",
    "    scores = cross_val_score(svm, x_credit, y_credit, cv=kfold)\n",
    "    # print(scores)\n",
    "    # print(scores.mean())\n",
    "    resultados_svm.append(scores.mean())"
   ]
  },
  {
   "cell_type": "code",
   "execution_count": null,
   "metadata": {},
   "outputs": [],
   "source": [
    "resultados_svm"
   ]
  },
  {
   "cell_type": "markdown",
   "metadata": {},
   "source": [
    "### Neural Network / Redes Neurais"
   ]
  },
  {
   "cell_type": "code",
   "execution_count": null,
   "metadata": {},
   "outputs": [],
   "source": [
    "resultados_neural = []\n",
    "\n",
    "for i in range(30):\n",
    "    kfold = KFold( n_splits=10, shuffle=True, random_state=i)\n",
    "\n",
    "    neural = MLPClassifier(activation='relu',  batch_size=56, solver='adam')\n",
    "    scores = cross_val_score(neural, x_credit, y_credit, cv=kfold)\n",
    "    # print(scores)\n",
    "    # print(scores.mean())\n",
    "    resultados_neural.append(scores.mean())"
   ]
  },
  {
   "cell_type": "code",
   "execution_count": 36,
   "metadata": {},
   "outputs": [
    {
     "data": {
      "text/plain": [
       "[0.9970000000000001,\n",
       " 0.9984999999999999,\n",
       " 0.9964999999999999,\n",
       " 0.9969999999999999,\n",
       " 0.9974999999999999,\n",
       " 0.9970000000000001,\n",
       " 0.9964999999999999,\n",
       " 0.9970000000000001,\n",
       " 0.9969999999999999,\n",
       " 0.9975000000000002,\n",
       " 0.9959999999999999,\n",
       " 0.9974999999999999,\n",
       " 0.9964999999999999,\n",
       " 0.9974999999999999,\n",
       " 0.9964999999999999,\n",
       " 0.998,\n",
       " 0.9970000000000001,\n",
       " 0.9975000000000002,\n",
       " 0.9969999999999999,\n",
       " 0.9969999999999999,\n",
       " 0.9974999999999999,\n",
       " 0.9969999999999999,\n",
       " 0.9974999999999999,\n",
       " 0.9974999999999999,\n",
       " 0.9970000000000001,\n",
       " 0.9974999999999999,\n",
       " 0.9970000000000001,\n",
       " 0.9970000000000001,\n",
       " 0.9970000000000001,\n",
       " 0.9970000000000001]"
      ]
     },
     "execution_count": 36,
     "metadata": {},
     "output_type": "execute_result"
    }
   ],
   "source": [
    "resultados_neural"
   ]
  },
  {
   "cell_type": "markdown",
   "metadata": {},
   "source": [
    "## Análise dos resultados"
   ]
  },
  {
   "cell_type": "code",
   "execution_count": 38,
   "metadata": {},
   "outputs": [
    {
     "data": {
      "text/html": [
       "<div>\n",
       "<style scoped>\n",
       "    .dataframe tbody tr th:only-of-type {\n",
       "        vertical-align: middle;\n",
       "    }\n",
       "\n",
       "    .dataframe tbody tr th {\n",
       "        vertical-align: top;\n",
       "    }\n",
       "\n",
       "    .dataframe thead th {\n",
       "        text-align: right;\n",
       "    }\n",
       "</style>\n",
       "<table border=\"1\" class=\"dataframe\">\n",
       "  <thead>\n",
       "    <tr style=\"text-align: right;\">\n",
       "      <th></th>\n",
       "      <th>Arvore</th>\n",
       "      <th>Random Forest</th>\n",
       "      <th>KNN</th>\n",
       "      <th>Regressão Logística</th>\n",
       "      <th>SVM</th>\n",
       "      <th>Rede Neural</th>\n",
       "    </tr>\n",
       "  </thead>\n",
       "  <tbody>\n",
       "    <tr>\n",
       "      <th>0</th>\n",
       "      <td>0.9860</td>\n",
       "      <td>0.9835</td>\n",
       "      <td>0.9815</td>\n",
       "      <td>0.9475</td>\n",
       "      <td>0.9845</td>\n",
       "      <td>0.9970</td>\n",
       "    </tr>\n",
       "    <tr>\n",
       "      <th>1</th>\n",
       "      <td>0.9835</td>\n",
       "      <td>0.9830</td>\n",
       "      <td>0.9800</td>\n",
       "      <td>0.9465</td>\n",
       "      <td>0.9840</td>\n",
       "      <td>0.9985</td>\n",
       "    </tr>\n",
       "    <tr>\n",
       "      <th>2</th>\n",
       "      <td>0.9905</td>\n",
       "      <td>0.9855</td>\n",
       "      <td>0.9795</td>\n",
       "      <td>0.9470</td>\n",
       "      <td>0.9865</td>\n",
       "      <td>0.9965</td>\n",
       "    </tr>\n",
       "    <tr>\n",
       "      <th>3</th>\n",
       "      <td>0.9870</td>\n",
       "      <td>0.9815</td>\n",
       "      <td>0.9780</td>\n",
       "      <td>0.9460</td>\n",
       "      <td>0.9850</td>\n",
       "      <td>0.9970</td>\n",
       "    </tr>\n",
       "    <tr>\n",
       "      <th>4</th>\n",
       "      <td>0.9880</td>\n",
       "      <td>0.9880</td>\n",
       "      <td>0.9820</td>\n",
       "      <td>0.9465</td>\n",
       "      <td>0.9850</td>\n",
       "      <td>0.9975</td>\n",
       "    </tr>\n",
       "    <tr>\n",
       "      <th>5</th>\n",
       "      <td>0.9885</td>\n",
       "      <td>0.9815</td>\n",
       "      <td>0.9780</td>\n",
       "      <td>0.9465</td>\n",
       "      <td>0.9845</td>\n",
       "      <td>0.9970</td>\n",
       "    </tr>\n",
       "    <tr>\n",
       "      <th>6</th>\n",
       "      <td>0.9885</td>\n",
       "      <td>0.9835</td>\n",
       "      <td>0.9805</td>\n",
       "      <td>0.9470</td>\n",
       "      <td>0.9860</td>\n",
       "      <td>0.9965</td>\n",
       "    </tr>\n",
       "    <tr>\n",
       "      <th>7</th>\n",
       "      <td>0.9875</td>\n",
       "      <td>0.9815</td>\n",
       "      <td>0.9800</td>\n",
       "      <td>0.9480</td>\n",
       "      <td>0.9850</td>\n",
       "      <td>0.9970</td>\n",
       "    </tr>\n",
       "    <tr>\n",
       "      <th>8</th>\n",
       "      <td>0.9870</td>\n",
       "      <td>0.9835</td>\n",
       "      <td>0.9795</td>\n",
       "      <td>0.9465</td>\n",
       "      <td>0.9840</td>\n",
       "      <td>0.9970</td>\n",
       "    </tr>\n",
       "    <tr>\n",
       "      <th>9</th>\n",
       "      <td>0.9870</td>\n",
       "      <td>0.9855</td>\n",
       "      <td>0.9820</td>\n",
       "      <td>0.9465</td>\n",
       "      <td>0.9845</td>\n",
       "      <td>0.9975</td>\n",
       "    </tr>\n",
       "    <tr>\n",
       "      <th>10</th>\n",
       "      <td>0.9865</td>\n",
       "      <td>0.9825</td>\n",
       "      <td>0.9795</td>\n",
       "      <td>0.9475</td>\n",
       "      <td>0.9840</td>\n",
       "      <td>0.9960</td>\n",
       "    </tr>\n",
       "    <tr>\n",
       "      <th>11</th>\n",
       "      <td>0.9900</td>\n",
       "      <td>0.9810</td>\n",
       "      <td>0.9825</td>\n",
       "      <td>0.9480</td>\n",
       "      <td>0.9845</td>\n",
       "      <td>0.9975</td>\n",
       "    </tr>\n",
       "    <tr>\n",
       "      <th>12</th>\n",
       "      <td>0.9890</td>\n",
       "      <td>0.9825</td>\n",
       "      <td>0.9825</td>\n",
       "      <td>0.9475</td>\n",
       "      <td>0.9855</td>\n",
       "      <td>0.9965</td>\n",
       "    </tr>\n",
       "    <tr>\n",
       "      <th>13</th>\n",
       "      <td>0.9865</td>\n",
       "      <td>0.9830</td>\n",
       "      <td>0.9780</td>\n",
       "      <td>0.9485</td>\n",
       "      <td>0.9855</td>\n",
       "      <td>0.9975</td>\n",
       "    </tr>\n",
       "    <tr>\n",
       "      <th>14</th>\n",
       "      <td>0.9855</td>\n",
       "      <td>0.9835</td>\n",
       "      <td>0.9810</td>\n",
       "      <td>0.9485</td>\n",
       "      <td>0.9830</td>\n",
       "      <td>0.9965</td>\n",
       "    </tr>\n",
       "    <tr>\n",
       "      <th>15</th>\n",
       "      <td>0.9865</td>\n",
       "      <td>0.9825</td>\n",
       "      <td>0.9790</td>\n",
       "      <td>0.9475</td>\n",
       "      <td>0.9865</td>\n",
       "      <td>0.9980</td>\n",
       "    </tr>\n",
       "    <tr>\n",
       "      <th>16</th>\n",
       "      <td>0.9855</td>\n",
       "      <td>0.9805</td>\n",
       "      <td>0.9810</td>\n",
       "      <td>0.9460</td>\n",
       "      <td>0.9860</td>\n",
       "      <td>0.9970</td>\n",
       "    </tr>\n",
       "    <tr>\n",
       "      <th>17</th>\n",
       "      <td>0.9905</td>\n",
       "      <td>0.9865</td>\n",
       "      <td>0.9800</td>\n",
       "      <td>0.9470</td>\n",
       "      <td>0.9865</td>\n",
       "      <td>0.9975</td>\n",
       "    </tr>\n",
       "    <tr>\n",
       "      <th>18</th>\n",
       "      <td>0.9875</td>\n",
       "      <td>0.9855</td>\n",
       "      <td>0.9805</td>\n",
       "      <td>0.9465</td>\n",
       "      <td>0.9850</td>\n",
       "      <td>0.9970</td>\n",
       "    </tr>\n",
       "    <tr>\n",
       "      <th>19</th>\n",
       "      <td>0.9870</td>\n",
       "      <td>0.9850</td>\n",
       "      <td>0.9795</td>\n",
       "      <td>0.9465</td>\n",
       "      <td>0.9845</td>\n",
       "      <td>0.9970</td>\n",
       "    </tr>\n",
       "    <tr>\n",
       "      <th>20</th>\n",
       "      <td>0.9830</td>\n",
       "      <td>0.9810</td>\n",
       "      <td>0.9820</td>\n",
       "      <td>0.9465</td>\n",
       "      <td>0.9840</td>\n",
       "      <td>0.9975</td>\n",
       "    </tr>\n",
       "    <tr>\n",
       "      <th>21</th>\n",
       "      <td>0.9870</td>\n",
       "      <td>0.9825</td>\n",
       "      <td>0.9825</td>\n",
       "      <td>0.9470</td>\n",
       "      <td>0.9850</td>\n",
       "      <td>0.9970</td>\n",
       "    </tr>\n",
       "    <tr>\n",
       "      <th>22</th>\n",
       "      <td>0.9890</td>\n",
       "      <td>0.9845</td>\n",
       "      <td>0.9780</td>\n",
       "      <td>0.9455</td>\n",
       "      <td>0.9865</td>\n",
       "      <td>0.9975</td>\n",
       "    </tr>\n",
       "    <tr>\n",
       "      <th>23</th>\n",
       "      <td>0.9875</td>\n",
       "      <td>0.9835</td>\n",
       "      <td>0.9810</td>\n",
       "      <td>0.9465</td>\n",
       "      <td>0.9875</td>\n",
       "      <td>0.9975</td>\n",
       "    </tr>\n",
       "    <tr>\n",
       "      <th>24</th>\n",
       "      <td>0.9880</td>\n",
       "      <td>0.9875</td>\n",
       "      <td>0.9795</td>\n",
       "      <td>0.9475</td>\n",
       "      <td>0.9870</td>\n",
       "      <td>0.9970</td>\n",
       "    </tr>\n",
       "    <tr>\n",
       "      <th>25</th>\n",
       "      <td>0.9880</td>\n",
       "      <td>0.9840</td>\n",
       "      <td>0.9790</td>\n",
       "      <td>0.9470</td>\n",
       "      <td>0.9820</td>\n",
       "      <td>0.9975</td>\n",
       "    </tr>\n",
       "    <tr>\n",
       "      <th>26</th>\n",
       "      <td>0.9875</td>\n",
       "      <td>0.9840</td>\n",
       "      <td>0.9770</td>\n",
       "      <td>0.9475</td>\n",
       "      <td>0.9840</td>\n",
       "      <td>0.9970</td>\n",
       "    </tr>\n",
       "    <tr>\n",
       "      <th>27</th>\n",
       "      <td>0.9860</td>\n",
       "      <td>0.9835</td>\n",
       "      <td>0.9785</td>\n",
       "      <td>0.9465</td>\n",
       "      <td>0.9865</td>\n",
       "      <td>0.9970</td>\n",
       "    </tr>\n",
       "    <tr>\n",
       "      <th>28</th>\n",
       "      <td>0.9865</td>\n",
       "      <td>0.9810</td>\n",
       "      <td>0.9790</td>\n",
       "      <td>0.9480</td>\n",
       "      <td>0.9835</td>\n",
       "      <td>0.9970</td>\n",
       "    </tr>\n",
       "    <tr>\n",
       "      <th>29</th>\n",
       "      <td>0.9880</td>\n",
       "      <td>0.9860</td>\n",
       "      <td>0.9805</td>\n",
       "      <td>0.9465</td>\n",
       "      <td>0.9865</td>\n",
       "      <td>0.9970</td>\n",
       "    </tr>\n",
       "  </tbody>\n",
       "</table>\n",
       "</div>"
      ],
      "text/plain": [
       "    Arvore  Random Forest     KNN  Regressão Logística     SVM  Rede Neural\n",
       "0   0.9860         0.9835  0.9815               0.9475  0.9845       0.9970\n",
       "1   0.9835         0.9830  0.9800               0.9465  0.9840       0.9985\n",
       "2   0.9905         0.9855  0.9795               0.9470  0.9865       0.9965\n",
       "3   0.9870         0.9815  0.9780               0.9460  0.9850       0.9970\n",
       "4   0.9880         0.9880  0.9820               0.9465  0.9850       0.9975\n",
       "5   0.9885         0.9815  0.9780               0.9465  0.9845       0.9970\n",
       "6   0.9885         0.9835  0.9805               0.9470  0.9860       0.9965\n",
       "7   0.9875         0.9815  0.9800               0.9480  0.9850       0.9970\n",
       "8   0.9870         0.9835  0.9795               0.9465  0.9840       0.9970\n",
       "9   0.9870         0.9855  0.9820               0.9465  0.9845       0.9975\n",
       "10  0.9865         0.9825  0.9795               0.9475  0.9840       0.9960\n",
       "11  0.9900         0.9810  0.9825               0.9480  0.9845       0.9975\n",
       "12  0.9890         0.9825  0.9825               0.9475  0.9855       0.9965\n",
       "13  0.9865         0.9830  0.9780               0.9485  0.9855       0.9975\n",
       "14  0.9855         0.9835  0.9810               0.9485  0.9830       0.9965\n",
       "15  0.9865         0.9825  0.9790               0.9475  0.9865       0.9980\n",
       "16  0.9855         0.9805  0.9810               0.9460  0.9860       0.9970\n",
       "17  0.9905         0.9865  0.9800               0.9470  0.9865       0.9975\n",
       "18  0.9875         0.9855  0.9805               0.9465  0.9850       0.9970\n",
       "19  0.9870         0.9850  0.9795               0.9465  0.9845       0.9970\n",
       "20  0.9830         0.9810  0.9820               0.9465  0.9840       0.9975\n",
       "21  0.9870         0.9825  0.9825               0.9470  0.9850       0.9970\n",
       "22  0.9890         0.9845  0.9780               0.9455  0.9865       0.9975\n",
       "23  0.9875         0.9835  0.9810               0.9465  0.9875       0.9975\n",
       "24  0.9880         0.9875  0.9795               0.9475  0.9870       0.9970\n",
       "25  0.9880         0.9840  0.9790               0.9470  0.9820       0.9975\n",
       "26  0.9875         0.9840  0.9770               0.9475  0.9840       0.9970\n",
       "27  0.9860         0.9835  0.9785               0.9465  0.9865       0.9970\n",
       "28  0.9865         0.9810  0.9790               0.9480  0.9835       0.9970\n",
       "29  0.9880         0.9860  0.9805               0.9465  0.9865       0.9970"
      ]
     },
     "execution_count": 38,
     "metadata": {},
     "output_type": "execute_result"
    }
   ],
   "source": [
    "resultados = pd.DataFrame({\n",
    "    'Arvore': resultados_arvore, \n",
    "    'Random Forest': resultados_random_forest, \n",
    "    'KNN': resultados_knn, \n",
    "    'Regressão Logística': resultados_logistic_regression, \n",
    "    'SVM': resultados_svm, \n",
    "    'Rede Neural': resultados_neural\n",
    "    })\n",
    "resultados"
   ]
  },
  {
   "cell_type": "code",
   "execution_count": 39,
   "metadata": {},
   "outputs": [
    {
     "data": {
      "text/html": [
       "<div>\n",
       "<style scoped>\n",
       "    .dataframe tbody tr th:only-of-type {\n",
       "        vertical-align: middle;\n",
       "    }\n",
       "\n",
       "    .dataframe tbody tr th {\n",
       "        vertical-align: top;\n",
       "    }\n",
       "\n",
       "    .dataframe thead th {\n",
       "        text-align: right;\n",
       "    }\n",
       "</style>\n",
       "<table border=\"1\" class=\"dataframe\">\n",
       "  <thead>\n",
       "    <tr style=\"text-align: right;\">\n",
       "      <th></th>\n",
       "      <th>Arvore</th>\n",
       "      <th>Random Forest</th>\n",
       "      <th>KNN</th>\n",
       "      <th>Regressão Logística</th>\n",
       "      <th>SVM</th>\n",
       "      <th>Rede Neural</th>\n",
       "    </tr>\n",
       "  </thead>\n",
       "  <tbody>\n",
       "    <tr>\n",
       "      <th>count</th>\n",
       "      <td>30.000000</td>\n",
       "      <td>30.000000</td>\n",
       "      <td>30.000000</td>\n",
       "      <td>30.000000</td>\n",
       "      <td>30.000000</td>\n",
       "      <td>30.000000</td>\n",
       "    </tr>\n",
       "    <tr>\n",
       "      <th>mean</th>\n",
       "      <td>0.987283</td>\n",
       "      <td>0.983567</td>\n",
       "      <td>0.980050</td>\n",
       "      <td>0.947000</td>\n",
       "      <td>0.985083</td>\n",
       "      <td>0.997133</td>\n",
       "    </tr>\n",
       "    <tr>\n",
       "      <th>std</th>\n",
       "      <td>0.001705</td>\n",
       "      <td>0.001960</td>\n",
       "      <td>0.001533</td>\n",
       "      <td>0.000743</td>\n",
       "      <td>0.001280</td>\n",
       "      <td>0.000490</td>\n",
       "    </tr>\n",
       "    <tr>\n",
       "      <th>min</th>\n",
       "      <td>0.983000</td>\n",
       "      <td>0.980500</td>\n",
       "      <td>0.977000</td>\n",
       "      <td>0.945500</td>\n",
       "      <td>0.982000</td>\n",
       "      <td>0.996000</td>\n",
       "    </tr>\n",
       "    <tr>\n",
       "      <th>25%</th>\n",
       "      <td>0.986500</td>\n",
       "      <td>0.982500</td>\n",
       "      <td>0.979000</td>\n",
       "      <td>0.946500</td>\n",
       "      <td>0.984125</td>\n",
       "      <td>0.997000</td>\n",
       "    </tr>\n",
       "    <tr>\n",
       "      <th>50%</th>\n",
       "      <td>0.987250</td>\n",
       "      <td>0.983500</td>\n",
       "      <td>0.980000</td>\n",
       "      <td>0.947000</td>\n",
       "      <td>0.985000</td>\n",
       "      <td>0.997000</td>\n",
       "    </tr>\n",
       "    <tr>\n",
       "      <th>75%</th>\n",
       "      <td>0.988000</td>\n",
       "      <td>0.984875</td>\n",
       "      <td>0.981000</td>\n",
       "      <td>0.947500</td>\n",
       "      <td>0.986375</td>\n",
       "      <td>0.997500</td>\n",
       "    </tr>\n",
       "    <tr>\n",
       "      <th>max</th>\n",
       "      <td>0.990500</td>\n",
       "      <td>0.988000</td>\n",
       "      <td>0.982500</td>\n",
       "      <td>0.948500</td>\n",
       "      <td>0.987500</td>\n",
       "      <td>0.998500</td>\n",
       "    </tr>\n",
       "  </tbody>\n",
       "</table>\n",
       "</div>"
      ],
      "text/plain": [
       "          Arvore  Random Forest  ...        SVM  Rede Neural\n",
       "count  30.000000      30.000000  ...  30.000000    30.000000\n",
       "mean    0.987283       0.983567  ...   0.985083     0.997133\n",
       "std     0.001705       0.001960  ...   0.001280     0.000490\n",
       "min     0.983000       0.980500  ...   0.982000     0.996000\n",
       "25%     0.986500       0.982500  ...   0.984125     0.997000\n",
       "50%     0.987250       0.983500  ...   0.985000     0.997000\n",
       "75%     0.988000       0.984875  ...   0.986375     0.997500\n",
       "max     0.990500       0.988000  ...   0.987500     0.998500\n",
       "\n",
       "[8 rows x 6 columns]"
      ]
     },
     "execution_count": 39,
     "metadata": {},
     "output_type": "execute_result"
    }
   ],
   "source": [
    "resultados.describe()"
   ]
  },
  {
   "cell_type": "code",
   "execution_count": null,
   "metadata": {},
   "outputs": [
    {
     "data": {
      "text/plain": [
       "Arvore                 0.172735\n",
       "Random Forest          0.199239\n",
       "KNN                    0.156446\n",
       "Regressão Logística    0.078435\n",
       "SVM                    0.129977\n",
       "Rede Neural            0.049154\n",
       "dtype: float64"
      ]
     },
     "execution_count": 41,
     "metadata": {},
     "output_type": "execute_result"
    }
   ],
   "source": [
    "# Coeficiente de variação\n",
    "(resultados.std() / resultados.mean()) * 100"
   ]
  },
  {
   "cell_type": "markdown",
   "metadata": {},
   "source": [
    "### Testes Estatísticos - teste de normalidade nos resultados (Shapiro)"
   ]
  },
  {
   "cell_type": "code",
   "execution_count": 42,
   "metadata": {},
   "outputs": [],
   "source": [
    "from scipy.stats import shapiro"
   ]
  },
  {
   "cell_type": "code",
   "execution_count": null,
   "metadata": {},
   "outputs": [
    {
     "data": {
      "text/plain": [
       "(ShapiroResult(statistic=0.9557879327104234, pvalue=0.24087064320049617),\n",
       " ShapiroResult(statistic=0.956237747612653, pvalue=0.24750568456000138),\n",
       " ShapiroResult(statistic=0.9584024823930501, pvalue=0.2818135378764127),\n",
       " ShapiroResult(statistic=0.9309147727892649, pvalue=0.051930740130906254),\n",
       " ShapiroResult(statistic=0.9622985607506823, pvalue=0.3541579284945434),\n",
       " ShapiroResult(statistic=0.8926955195968679, pvalue=0.005592103973830425))"
      ]
     },
     "execution_count": 44,
     "metadata": {},
     "output_type": "execute_result"
    }
   ],
   "source": [
    "# Se o valor de p for menor que alpha, a distribuição não é normal (indica que aceitamos a hipótese nula - H0)\n",
    "alpha = 0.05\n",
    "\n",
    "shapiro(resultados_arvore), shapiro(resultados_random_forest), shapiro(resultados_knn), shapiro(resultados_logistic_regression), shapiro(resultados_svm), shapiro(resultados_neural)"
   ]
  },
  {
   "cell_type": "code",
   "execution_count": 49,
   "metadata": {},
   "outputs": [
    {
     "data": {
      "text/plain": [
       "<seaborn.axisgrid.FacetGrid at 0x245cf3a45f0>"
      ]
     },
     "execution_count": 49,
     "metadata": {},
     "output_type": "execute_result"
    },
    {
     "data": {
      "image/png": "[encoded data removed]",
      "text/plain": [
       "<Figure size 500x500 with 1 Axes>"
      ]
     },
     "metadata": {},
     "output_type": "display_data"
    }
   ],
   "source": [
    "sns.displot(resultados_arvore, kind='kde')"
   ]
  },
  {
   "cell_type": "code",
   "execution_count": 50,
   "metadata": {},
   "outputs": [
    {
     "data": {
      "text/plain": [
       "<seaborn.axisgrid.FacetGrid at 0x245cb10c800>"
      ]
     },
     "execution_count": 50,
     "metadata": {},
     "output_type": "execute_result"
    },
    {
     "data": {
      "image/png": "[encoded data removed]",
      "text/plain": [
       "<Figure size 500x500 with 1 Axes>"
      ]
     },
     "metadata": {},
     "output_type": "display_data"
    }
   ],
   "source": [
    "sns.displot(resultados_random_forest, kind='kde')"
   ]
  },
  {
   "cell_type": "code",
   "execution_count": 51,
   "metadata": {},
   "outputs": [
    {
     "data": {
      "text/plain": [
       "<seaborn.axisgrid.FacetGrid at 0x245cf54d040>"
      ]
     },
     "execution_count": 51,
     "metadata": {},
     "output_type": "execute_result"
    },
    {
     "data": {
      "image/png": "[encoded data removed]",
      "text/plain": [
       "<Figure size 500x500 with 1 Axes>"
      ]
     },
     "metadata": {},
     "output_type": "display_data"
    }
   ],
   "source": [
    "sns.displot(resultados_knn, kind='kde')"
   ]
  },
  {
   "cell_type": "code",
   "execution_count": 52,
   "metadata": {},
   "outputs": [
    {
     "data": {
      "text/plain": [
       "<seaborn.axisgrid.FacetGrid at 0x245d05b4ad0>"
      ]
     },
     "execution_count": 52,
     "metadata": {},
     "output_type": "execute_result"
    },
    {
     "data": {
      "image/png": "[encoded data removed]",
      "text/plain": [
       "<Figure size 500x500 with 1 Axes>"
      ]
     },
     "metadata": {},
     "output_type": "display_data"
    }
   ],
   "source": [
    "sns.displot(resultados_logistic_regression, kind='kde')"
   ]
  },
  {
   "cell_type": "code",
   "execution_count": 53,
   "metadata": {},
   "outputs": [
    {
     "data": {
      "text/plain": [
       "<seaborn.axisgrid.FacetGrid at 0x245cf470200>"
      ]
     },
     "execution_count": 53,
     "metadata": {},
     "output_type": "execute_result"
    },
    {
     "data": {
      "image/png": "[encoded data removed]",
      "text/plain": [
       "<Figure size 500x500 with 1 Axes>"
      ]
     },
     "metadata": {},
     "output_type": "display_data"
    }
   ],
   "source": [
    "sns.displot(resultados_svm, kind='kde')"
   ]
  },
  {
   "cell_type": "code",
   "execution_count": 54,
   "metadata": {},
   "outputs": [
    {
     "data": {
      "text/plain": [
       "<seaborn.axisgrid.FacetGrid at 0x245cf4df3e0>"
      ]
     },
     "execution_count": 54,
     "metadata": {},
     "output_type": "execute_result"
    },
    {
     "data": {
      "image/png": "[encoded data removed]",
      "text/plain": [
       "<Figure size 500x500 with 1 Axes>"
      ]
     },
     "metadata": {},
     "output_type": "display_data"
    }
   ],
   "source": [
    "sns.displot(resultados_neural, kind='kde')"
   ]
  },
  {
   "cell_type": "markdown",
   "metadata": {},
   "source": [
    "### Análise de variação - ANOVA e Tukey"
   ]
  },
  {
   "cell_type": "code",
   "execution_count": 55,
   "metadata": {},
   "outputs": [],
   "source": [
    "from scipy.stats import f_oneway"
   ]
  },
  {
   "cell_type": "code",
   "execution_count": null,
   "metadata": {},
   "outputs": [
    {
     "data": {
      "text/plain": [
       "8.765303320567124e-183"
      ]
     },
     "execution_count": 56,
     "metadata": {},
     "output_type": "execute_result"
    }
   ],
   "source": [
    "alpha = 0.05\n",
    "\n",
    "_, p = f_oneway(resultados_arvore, resultados_random_forest, resultados_knn, resultados_logistic_regression, resultados_svm, resultados_neural)\n",
    "p"
   ]
  },
  {
   "cell_type": "code",
   "execution_count": 57,
   "metadata": {},
   "outputs": [
    {
     "name": "stdout",
     "output_type": "stream",
     "text": [
      "Hipótese nula rejeitada. Dados são diferentes.\n"
     ]
    }
   ],
   "source": [
    "if p <= alpha:\n",
    "    print('Hipótese nula rejeitada. Dados são diferentes.')\n",
    "else:\n",
    "    print('Hipótese alternativa rejeitada. Dados são iguais.')"
   ]
  },
  {
   "cell_type": "code",
   "execution_count": 58,
   "metadata": {},
   "outputs": [],
   "source": [
    "resultados_algoritmos = {'accuracy': np.concatenate([resultados_arvore, resultados_random_forest, resultados_knn, resultados_logistic_regression, resultados_svm, resultados_neural]),\n",
    "                         'algoritmo': ['arvore','arvore','arvore','arvore','arvore','arvore','arvore','arvore','arvore','arvore','arvore','arvore','arvore','arvore','arvore','arvore','arvore','arvore','arvore','arvore','arvore','arvore','arvore','arvore','arvore','arvore','arvore','arvore','arvore','arvore',\n",
    "                          'random_forest','random_forest','random_forest','random_forest','random_forest','random_forest','random_forest','random_forest','random_forest','random_forest','random_forest','random_forest','random_forest','random_forest','random_forest','random_forest','random_forest','random_forest','random_forest','random_forest','random_forest','random_forest','random_forest','random_forest','random_forest','random_forest','random_forest','random_forest','random_forest','random_forest',\n",
    "                          'knn','knn','knn','knn','knn','knn','knn','knn','knn','knn','knn','knn','knn','knn','knn','knn','knn','knn','knn','knn','knn','knn','knn','knn','knn','knn','knn','knn','knn','knn',\n",
    "                          'logistica','logistica','logistica','logistica','logistica','logistica','logistica','logistica','logistica','logistica','logistica','logistica','logistica','logistica','logistica','logistica','logistica','logistica','logistica','logistica','logistica','logistica','logistica','logistica','logistica','logistica','logistica','logistica','logistica','logistica',\n",
    "                          'svm','svm','svm','svm','svm','svm','svm','svm','svm','svm','svm','svm','svm','svm','svm','svm','svm','svm','svm','svm','svm','svm','svm','svm','svm','svm','svm','svm','svm','svm',\n",
    "                          'rede_neural','rede_neural','rede_neural','rede_neural','rede_neural','rede_neural','rede_neural','rede_neural','rede_neural','rede_neural','rede_neural','rede_neural','rede_neural','rede_neural','rede_neural','rede_neural','rede_neural','rede_neural','rede_neural','rede_neural','rede_neural','rede_neural','rede_neural','rede_neural','rede_neural','rede_neural','rede_neural','rede_neural','rede_neural','rede_neural']}"
   ]
  },
  {
   "cell_type": "code",
   "execution_count": 61,
   "metadata": {},
   "outputs": [
    {
     "data": {
      "text/html": [
       "<div>\n",
       "<style scoped>\n",
       "    .dataframe tbody tr th:only-of-type {\n",
       "        vertical-align: middle;\n",
       "    }\n",
       "\n",
       "    .dataframe tbody tr th {\n",
       "        vertical-align: top;\n",
       "    }\n",
       "\n",
       "    .dataframe thead th {\n",
       "        text-align: right;\n",
       "    }\n",
       "</style>\n",
       "<table border=\"1\" class=\"dataframe\">\n",
       "  <thead>\n",
       "    <tr style=\"text-align: right;\">\n",
       "      <th></th>\n",
       "      <th>accuracy</th>\n",
       "      <th>algoritmo</th>\n",
       "    </tr>\n",
       "  </thead>\n",
       "  <tbody>\n",
       "    <tr>\n",
       "      <th>0</th>\n",
       "      <td>0.9860</td>\n",
       "      <td>arvore</td>\n",
       "    </tr>\n",
       "    <tr>\n",
       "      <th>1</th>\n",
       "      <td>0.9835</td>\n",
       "      <td>arvore</td>\n",
       "    </tr>\n",
       "    <tr>\n",
       "      <th>2</th>\n",
       "      <td>0.9905</td>\n",
       "      <td>arvore</td>\n",
       "    </tr>\n",
       "    <tr>\n",
       "      <th>3</th>\n",
       "      <td>0.9870</td>\n",
       "      <td>arvore</td>\n",
       "    </tr>\n",
       "    <tr>\n",
       "      <th>4</th>\n",
       "      <td>0.9880</td>\n",
       "      <td>arvore</td>\n",
       "    </tr>\n",
       "    <tr>\n",
       "      <th>...</th>\n",
       "      <td>...</td>\n",
       "      <td>...</td>\n",
       "    </tr>\n",
       "    <tr>\n",
       "      <th>175</th>\n",
       "      <td>0.9975</td>\n",
       "      <td>rede_neural</td>\n",
       "    </tr>\n",
       "    <tr>\n",
       "      <th>176</th>\n",
       "      <td>0.9970</td>\n",
       "      <td>rede_neural</td>\n",
       "    </tr>\n",
       "    <tr>\n",
       "      <th>177</th>\n",
       "      <td>0.9970</td>\n",
       "      <td>rede_neural</td>\n",
       "    </tr>\n",
       "    <tr>\n",
       "      <th>178</th>\n",
       "      <td>0.9970</td>\n",
       "      <td>rede_neural</td>\n",
       "    </tr>\n",
       "    <tr>\n",
       "      <th>179</th>\n",
       "      <td>0.9970</td>\n",
       "      <td>rede_neural</td>\n",
       "    </tr>\n",
       "  </tbody>\n",
       "</table>\n",
       "<p>180 rows × 2 columns</p>\n",
       "</div>"
      ],
      "text/plain": [
       "     accuracy    algoritmo\n",
       "0      0.9860       arvore\n",
       "1      0.9835       arvore\n",
       "2      0.9905       arvore\n",
       "3      0.9870       arvore\n",
       "4      0.9880       arvore\n",
       "..        ...          ...\n",
       "175    0.9975  rede_neural\n",
       "176    0.9970  rede_neural\n",
       "177    0.9970  rede_neural\n",
       "178    0.9970  rede_neural\n",
       "179    0.9970  rede_neural\n",
       "\n",
       "[180 rows x 2 columns]"
      ]
     },
     "execution_count": 61,
     "metadata": {},
     "output_type": "execute_result"
    }
   ],
   "source": [
    "resultados_df = pd.DataFrame(resultados_algoritmos)\n",
    "resultados_df"
   ]
  },
  {
   "cell_type": "code",
   "execution_count": 65,
   "metadata": {},
   "outputs": [],
   "source": [
    "from statsmodels.stats.multicomp import MultiComparison"
   ]
  },
  {
   "cell_type": "code",
   "execution_count": 66,
   "metadata": {},
   "outputs": [],
   "source": [
    "compara_algoritmos = MultiComparison(resultados_df['accuracy'], resultados_df['algoritmo'])"
   ]
  },
  {
   "cell_type": "code",
   "execution_count": 69,
   "metadata": {},
   "outputs": [
    {
     "name": "stdout",
     "output_type": "stream",
     "text": [
      "       Multiple Comparison of Means - Tukey HSD, FWER=0.05        \n",
      "==================================================================\n",
      "    group1        group2    meandiff p-adj   lower   upper  reject\n",
      "------------------------------------------------------------------\n",
      "       arvore           knn  -0.0072    0.0 -0.0083 -0.0062   True\n",
      "       arvore     logistica  -0.0403    0.0 -0.0413 -0.0393   True\n",
      "       arvore random_forest  -0.0037    0.0 -0.0047 -0.0027   True\n",
      "       arvore   rede_neural   0.0098    0.0  0.0088  0.0109   True\n",
      "       arvore           svm  -0.0022    0.0 -0.0032 -0.0012   True\n",
      "          knn     logistica   -0.033    0.0 -0.0341  -0.032   True\n",
      "          knn random_forest   0.0035    0.0  0.0025  0.0045   True\n",
      "          knn   rede_neural   0.0171    0.0  0.0161  0.0181   True\n",
      "          knn           svm    0.005    0.0   0.004  0.0061   True\n",
      "    logistica random_forest   0.0366    0.0  0.0355  0.0376   True\n",
      "    logistica   rede_neural   0.0501    0.0  0.0491  0.0512   True\n",
      "    logistica           svm   0.0381    0.0  0.0371  0.0391   True\n",
      "random_forest   rede_neural   0.0136    0.0  0.0125  0.0146   True\n",
      "random_forest           svm   0.0015 0.0005  0.0005  0.0025   True\n",
      "  rede_neural           svm   -0.012    0.0 -0.0131  -0.011   True\n",
      "------------------------------------------------------------------\n"
     ]
    }
   ],
   "source": [
    "teste_estatistico = compara_algoritmos.tukeyhsd()\n",
    "print(teste_estatistico)"
   ]
  },
  {
   "cell_type": "code",
   "execution_count": 72,
   "metadata": {},
   "outputs": [
    {
     "data": {
      "image/png": "[encoded data removed]",
      "text/plain": [
       "<Figure size 1000x600 with 1 Axes>"
      ]
     },
     "execution_count": 72,
     "metadata": {},
     "output_type": "execute_result"
    },
    {
     "data": {
      "image/png": "[encoded data removed]",
      "text/plain": [
       "<Figure size 1000x600 with 1 Axes>"
      ]
     },
     "metadata": {},
     "output_type": "display_data"
    }
   ],
   "source": [
    "teste_estatistico.plot_simultaneous()"
   ]
  }
 ],
 "metadata": {
  "kernelspec": {
   "display_name": ".venv",
   "language": "python",
   "name": "python3"
  },
  "language_info": {
   "codemirror_mode": {
    "name": "ipython",
    "version": 3
   },
   "file_extension": ".py",
   "mimetype": "text/x-python",
   "name": "python",
   "nbconvert_exporter": "python",
   "pygments_lexer": "ipython3",
   "version": "3.12.8"
  }
 },
 "nbformat": 4,
 "nbformat_minor": 2
}
